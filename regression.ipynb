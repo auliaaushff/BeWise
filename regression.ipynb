{
 "cells": [
  {
   "cell_type": "code",
   "execution_count": 19,
   "metadata": {},
   "outputs": [],
   "source": [
    "import pandas as pd\n",
    "import re\n",
    "from sklearn.model_selection import train_test_split, GridSearchCV\n",
    "from sklearn.ensemble import RandomForestRegressor\n",
    "from sklearn.metrics import mean_squared_error\n",
    "from sklearn.preprocessing import OneHotEncoder"
   ]
  },
  {
   "cell_type": "code",
   "execution_count": 20,
   "metadata": {},
   "outputs": [
    {
     "name": "stdout",
     "output_type": "stream",
     "text": [
      "Data latih disimpan di: train_data.csv\n",
      "Data uji disimpan di: test_data.csv\n"
     ]
    }
   ],
   "source": [
    "# Load dataset\n",
    "file_path = 'nutri_score_results.csv'  # Ganti dengan path file Anda\n",
    "dataset = pd.read_csv(file_path)\n",
    "\n",
    "# Tentukan kolom target\n",
    "target_column = 'nutri_score'\n",
    "X = dataset.drop(columns=[target_column])  # Fitur\n",
    "y = dataset[target_column]  # Target\n",
    "\n",
    "# Pisahkan data menjadi 80% training dan 20% testing\n",
    "X_train_raw, X_test_raw, y_train, y_test = train_test_split(X, y, test_size=0.2, random_state=42)\n",
    "\n",
    "# Gabungkan kembali hasil split menjadi dua DataFrames untuk penyimpanan\n",
    "train_data = pd.concat([X_train_raw, y_train], axis=1)\n",
    "test_data = pd.concat([X_test_raw, y_test], axis=1)\n",
    "\n",
    "# Simpan data latih dan data uji ke file CSV\n",
    "train_file_path = 'train_data.csv'\n",
    "test_file_path = 'test_data.csv'\n",
    "train_data.to_csv(train_file_path, index=False)\n",
    "test_data.to_csv(test_file_path, index=False)\n",
    "\n",
    "print(f\"Data latih disimpan di: {train_file_path}\")\n",
    "print(f\"Data uji disimpan di: {test_file_path}\")"
   ]
  },
  {
   "cell_type": "code",
   "execution_count": 21,
   "metadata": {},
   "outputs": [],
   "source": [
    "# Preprocessing function\n",
    "def preprocess_product_name(df):\n",
    "    # Extract brand (first word before underscore or space)\n",
    "    df['brand'] = df['nama_produk'].apply(lambda x: re.split(r'[_ ]', x)[0].lower())\n",
    "    # Extract product type (remaining meaningful words without numbers and special characters)\n",
    "    df['product_type'] = df['nama_produk'].apply(\n",
    "        lambda x: ' '.join(\n",
    "            [word.lower() for word in re.findall(r'[a-zA-Z]+', x) if len(word) > 2]\n",
    "        )\n",
    "    )\n",
    "    return df\n",
    "\n",
    "# Preprocess train and test data\n",
    "train_data_processed = preprocess_product_name(train_data.copy())\n",
    "test_data_processed = preprocess_product_name(test_data.copy())\n",
    "\n",
    "# One-hot encoding for 'brand' column\n",
    "one_hot_encoder = OneHotEncoder(handle_unknown='ignore', sparse_output=False)\n",
    "train_brand_encoded = one_hot_encoder.fit_transform(train_data_processed[['brand']])\n",
    "test_brand_encoded = one_hot_encoder.transform(test_data_processed[['brand']])\n",
    "\n",
    "# Convert the encoded arrays to DataFrames\n",
    "train_brand_df = pd.DataFrame(train_brand_encoded, columns=one_hot_encoder.get_feature_names_out(['brand']))\n",
    "test_brand_df = pd.DataFrame(test_brand_encoded, columns=one_hot_encoder.get_feature_names_out(['brand']))\n",
    "\n",
    "# Combine encoded features with the datasets\n",
    "train_data_processed = pd.concat([train_data_processed.reset_index(drop=True), train_brand_df], axis=1)\n",
    "test_data_processed = pd.concat([test_data_processed.reset_index(drop=True), test_brand_df], axis=1)\n",
    "\n",
    "# Ensure consistent features between train and test\n",
    "missing_cols = set(train_data_processed.columns) - set(test_data_processed.columns)\n",
    "for col in missing_cols:\n",
    "    test_data_processed[col] = 0  # Add missing columns in test set with 0\n",
    "test_data_processed = test_data_processed[train_data_processed.columns]  # Align column order\n",
    "\n",
    "# Drop unnecessary columns\n",
    "train_features = train_data_processed.drop(['nama_produk', 'brand', 'product_type', 'category'], axis=1, errors='ignore')\n",
    "test_features = test_data_processed.drop(['nama_produk', 'brand', 'product_type', 'category'], axis=1, errors='ignore')\n",
    "\n",
    "# Train-validation split\n",
    "X = train_features.drop('nutri_score', axis=1)  # Features\n",
    "y = train_features['nutri_score']  # Target\n",
    "X_train, X_val, y_train, y_val = train_test_split(X, y, test_size=0.2, random_state=42)"
   ]
  },
  {
   "cell_type": "code",
   "execution_count": 22,
   "metadata": {},
   "outputs": [
    {
     "name": "stdout",
     "output_type": "stream",
     "text": [
      "Mean Squared Error (Validation): 0.523377634439287\n"
     ]
    }
   ],
   "source": [
    "# Train RandomForestRegressor\n",
    "rf_model = RandomForestRegressor(random_state=42)\n",
    "rf_model.fit(X_train, y_train)\n",
    "\n",
    "# Evaluate model\n",
    "y_pred = rf_model.predict(X_val)\n",
    "mse = mean_squared_error(y_val, y_pred)\n",
    "print(f'Mean Squared Error (Validation): {mse}')"
   ]
  },
  {
   "cell_type": "code",
   "execution_count": 23,
   "metadata": {},
   "outputs": [
    {
     "name": "stdout",
     "output_type": "stream",
     "text": [
      "                                  nama_produk  predicted_nutri_score\n",
      "0  Cedea_FrozenFood_PremiumSalmonSausage_390G               1.310088\n",
      "1      Cedea_FrozenFood_KoreanOdengSpicy_480G               4.698533\n",
      "2  SoGood_FrozenFood_ChickenStickPremium_400G               2.713838\n",
      "3     Lotte_Biscuit_ChocoPieMarsmallow2'S_52G               4.241172\n",
      "4           Guribee_Snack_SnackRumputLaut_65G               7.930078\n"
     ]
    }
   ],
   "source": [
    "# Predict on test data\n",
    "test_predictions = rf_model.predict(test_features.drop('nutri_score', axis=1, errors='ignore'))\n",
    "output = pd.DataFrame({\n",
    "    'nama_produk': test_data_processed['nama_produk'],\n",
    "    'predicted_nutri_score': test_predictions\n",
    "})\n",
    "print(output.head())"
   ]
  },
  {
   "cell_type": "code",
   "execution_count": 48,
   "metadata": {},
   "outputs": [
    {
     "name": "stdout",
     "output_type": "stream",
     "text": [
      "                                  nama_produk  \\\n",
      "0  Cedea_FrozenFood_PremiumSalmonSausage_390G   \n",
      "1      Cedea_FrozenFood_KoreanOdengSpicy_480G   \n",
      "2  SoGood_FrozenFood_ChickenStickPremium_400G   \n",
      "3     Lotte_Biscuit_ChocoPieMarsmallow2'S_52G   \n",
      "4           Guribee_Snack_SnackRumputLaut_65G   \n",
      "\n",
      "                            product_type category  predicted_nutri_score  \n",
      "0  cedea frozenfood premiumsalmonsausage        C               1.310088  \n",
      "1      cedea frozenfood koreanodengspicy        C               4.698533  \n",
      "2  sogood frozenfood chickenstickpremium        C               2.713838  \n",
      "3       lotte biscuit chocopiemarsmallow        C               4.241172  \n",
      "4          guribee snack snackrumputlaut        C               7.930078  \n"
     ]
    }
   ],
   "source": [
    "output = pd.DataFrame({\n",
    "    'nama_produk': test_data_processed['nama_produk'],\n",
    "    'product_type': test_data_processed['product_type'],  # Opsional\n",
    "    'category': test_data_processed['category'],          # Opsional\n",
    "    'predicted_nutri_score': test_predictions\n",
    "})\n",
    "\n",
    "print(output.head())"
   ]
  },
  {
   "cell_type": "code",
   "execution_count": 24,
   "metadata": {},
   "outputs": [
    {
     "name": "stdout",
     "output_type": "stream",
     "text": [
      "Fitting 3 folds for each of 216 candidates, totalling 648 fits\n",
      "Best Hyperparameters: {'max_depth': 30, 'max_features': 'sqrt', 'min_samples_leaf': 1, 'min_samples_split': 2, 'n_estimators': 300}\n",
      "Best MSE (Grid Search): 1.401756205206774\n"
     ]
    }
   ],
   "source": [
    "# Hyperparameter tuning using GridSearchCV\n",
    "param_grid = {\n",
    "    'n_estimators': [100, 200, 300],\n",
    "    'max_depth': [10, 20, 30, None],\n",
    "    'min_samples_split': [2, 5, 10],\n",
    "    'min_samples_leaf': [1, 2, 4],\n",
    "    'max_features': ['sqrt', 'log2']\n",
    "}\n",
    "grid_search = GridSearchCV(\n",
    "    estimator=RandomForestRegressor(random_state=42),\n",
    "    param_grid=param_grid,\n",
    "    cv=3, n_jobs=-1, verbose=2, scoring='neg_mean_squared_error'\n",
    ")\n",
    "grid_search.fit(X_train, y_train)\n",
    "\n",
    "# Print best parameters and score\n",
    "best_params = grid_search.best_params_\n",
    "best_mse = -grid_search.best_score_\n",
    "print(\"Best Hyperparameters:\", best_params)\n",
    "print(\"Best MSE (Grid Search):\", best_mse)"
   ]
  },
  {
   "cell_type": "code",
   "execution_count": 25,
   "metadata": {},
   "outputs": [
    {
     "name": "stdout",
     "output_type": "stream",
     "text": [
      "Final Test MSE: 1.8422495813228175\n"
     ]
    }
   ],
   "source": [
    "# Train the final model with best hyperparameters\n",
    "best_rf_model = RandomForestRegressor(**best_params, random_state=42)\n",
    "best_rf_model.fit(X_train, y_train)\n",
    "\n",
    "# Evaluate final model on test set\n",
    "final_test_predictions = best_rf_model.predict(test_features.drop('nutri_score', axis=1, errors='ignore'))\n",
    "final_mse_test = mean_squared_error(y_test, final_test_predictions)\n",
    "print(f\"Final Test MSE: {final_mse_test}\")"
   ]
  },
  {
   "cell_type": "code",
   "execution_count": 26,
   "metadata": {},
   "outputs": [
    {
     "name": "stderr",
     "output_type": "stream",
     "text": [
      "[I 2024-12-18 20:35:35,516] A new study created in memory with name: no-name-3b205dae-ce5a-41c3-a867-d93c6e35fb8e\n",
      "[I 2024-12-18 20:35:38,506] Trial 4 finished with value: 10.455087140265453 and parameters: {'n_estimators': 121, 'max_depth': 10, 'min_samples_split': 5, 'min_samples_leaf': 7, 'max_features': 'sqrt'}. Best is trial 4 with value: 10.455087140265453.\n",
      "[I 2024-12-18 20:35:39,226] Trial 2 finished with value: 6.568046467137301 and parameters: {'n_estimators': 162, 'max_depth': 30, 'min_samples_split': 15, 'min_samples_leaf': 4, 'max_features': 'sqrt'}. Best is trial 2 with value: 6.568046467137301.\n",
      "[I 2024-12-18 20:35:39,317] Trial 1 finished with value: 18.554780591346233 and parameters: {'n_estimators': 224, 'max_depth': 10, 'min_samples_split': 17, 'min_samples_leaf': 7, 'max_features': 'log2'}. Best is trial 2 with value: 6.568046467137301.\n",
      "[I 2024-12-18 20:35:40,531] Trial 7 finished with value: 14.50794663312994 and parameters: {'n_estimators': 281, 'max_depth': None, 'min_samples_split': 18, 'min_samples_leaf': 5, 'max_features': 'log2'}. Best is trial 2 with value: 6.568046467137301.\n",
      "[I 2024-12-18 20:35:40,762] Trial 10 finished with value: 13.647781406242535 and parameters: {'n_estimators': 102, 'max_depth': 10, 'min_samples_split': 17, 'min_samples_leaf': 5, 'max_features': 'log2'}. Best is trial 2 with value: 6.568046467137301.\n",
      "[I 2024-12-18 20:35:40,864] Trial 5 finished with value: 18.853102011951865 and parameters: {'n_estimators': 273, 'max_depth': 10, 'min_samples_split': 4, 'min_samples_leaf': 7, 'max_features': 'log2'}. Best is trial 2 with value: 6.568046467137301.\n",
      "[I 2024-12-18 20:35:41,380] Trial 0 finished with value: 14.909659971785647 and parameters: {'n_estimators': 340, 'max_depth': 10, 'min_samples_split': 5, 'min_samples_leaf': 5, 'max_features': 'log2'}. Best is trial 2 with value: 6.568046467137301.\n",
      "[I 2024-12-18 20:35:42,331] Trial 9 finished with value: 6.429705688281944 and parameters: {'n_estimators': 191, 'max_depth': 20, 'min_samples_split': 14, 'min_samples_leaf': 4, 'max_features': 'sqrt'}. Best is trial 9 with value: 6.429705688281944.\n",
      "[I 2024-12-18 20:35:42,951] Trial 6 finished with value: 11.817913690613969 and parameters: {'n_estimators': 412, 'max_depth': 10, 'min_samples_split': 6, 'min_samples_leaf': 4, 'max_features': 'log2'}. Best is trial 9 with value: 6.429705688281944.\n",
      "[I 2024-12-18 20:35:42,985] Trial 11 finished with value: 2.8933158684993536 and parameters: {'n_estimators': 149, 'max_depth': 20, 'min_samples_split': 12, 'min_samples_leaf': 1, 'max_features': 'log2'}. Best is trial 11 with value: 2.8933158684993536.\n",
      "[I 2024-12-18 20:35:43,800] Trial 8 finished with value: 19.488871738247735 and parameters: {'n_estimators': 367, 'max_depth': 10, 'min_samples_split': 7, 'min_samples_leaf': 8, 'max_features': 'log2'}. Best is trial 11 with value: 2.8933158684993536.\n",
      "[I 2024-12-18 20:35:43,985] Trial 14 finished with value: 6.26747189707698 and parameters: {'n_estimators': 157, 'max_depth': 30, 'min_samples_split': 6, 'min_samples_leaf': 4, 'max_features': 'sqrt'}. Best is trial 11 with value: 2.8933158684993536.\n",
      "[I 2024-12-18 20:35:44,465] Trial 3 finished with value: 8.65937606218126 and parameters: {'n_estimators': 476, 'max_depth': 20, 'min_samples_split': 19, 'min_samples_leaf': 5, 'max_features': 'sqrt'}. Best is trial 11 with value: 2.8933158684993536.\n",
      "[I 2024-12-18 20:35:44,846] Trial 13 finished with value: 2.1128546082052786 and parameters: {'n_estimators': 247, 'max_depth': 10, 'min_samples_split': 6, 'min_samples_leaf': 1, 'max_features': 'sqrt'}. Best is trial 13 with value: 2.1128546082052786.\n",
      "[I 2024-12-18 20:35:46,004] Trial 12 finished with value: 9.563383062936076 and parameters: {'n_estimators': 350, 'max_depth': 20, 'min_samples_split': 12, 'min_samples_leaf': 6, 'max_features': 'sqrt'}. Best is trial 13 with value: 2.1128546082052786.\n",
      "[I 2024-12-18 20:35:46,575] Trial 16 finished with value: 4.098395098107073 and parameters: {'n_estimators': 201, 'max_depth': 10, 'min_samples_split': 19, 'min_samples_leaf': 1, 'max_features': 'log2'}. Best is trial 13 with value: 2.1128546082052786.\n",
      "[I 2024-12-18 20:35:47,784] Trial 18 finished with value: 2.378735967993647 and parameters: {'n_estimators': 208, 'max_depth': 20, 'min_samples_split': 12, 'min_samples_leaf': 1, 'max_features': 'sqrt'}. Best is trial 13 with value: 2.1128546082052786.\n",
      "[I 2024-12-18 20:35:47,830] Trial 15 finished with value: 18.54073411464438 and parameters: {'n_estimators': 367, 'max_depth': None, 'min_samples_split': 7, 'min_samples_leaf': 7, 'max_features': 'log2'}. Best is trial 13 with value: 2.1128546082052786.\n",
      "[I 2024-12-18 20:35:48,672] Trial 19 finished with value: 2.2692312253057207 and parameters: {'n_estimators': 224, 'max_depth': 30, 'min_samples_split': 10, 'min_samples_leaf': 1, 'max_features': 'sqrt'}. Best is trial 13 with value: 2.1128546082052786.\n",
      "[I 2024-12-18 20:35:48,835] Trial 21 finished with value: 2.2947686041098834 and parameters: {'n_estimators': 227, 'max_depth': 20, 'min_samples_split': 11, 'min_samples_leaf': 1, 'max_features': 'sqrt'}. Best is trial 13 with value: 2.1128546082052786.\n",
      "[I 2024-12-18 20:35:48,959] Trial 20 finished with value: 2.2738307938666806 and parameters: {'n_estimators': 221, 'max_depth': 30, 'min_samples_split': 10, 'min_samples_leaf': 1, 'max_features': 'sqrt'}. Best is trial 13 with value: 2.1128546082052786.\n",
      "[I 2024-12-18 20:35:50,625] Trial 22 finished with value: 2.2997184501679233 and parameters: {'n_estimators': 239, 'max_depth': None, 'min_samples_split': 10, 'min_samples_leaf': 1, 'max_features': 'sqrt'}. Best is trial 13 with value: 2.1128546082052786.\n",
      "[I 2024-12-18 20:35:51,072] Trial 23 finished with value: 1.9889761816247293 and parameters: {'n_estimators': 259, 'max_depth': None, 'min_samples_split': 9, 'min_samples_leaf': 1, 'max_features': 'sqrt'}. Best is trial 23 with value: 1.9889761816247293.\n",
      "[I 2024-12-18 20:35:51,804] Trial 17 finished with value: 2.1836014109965305 and parameters: {'n_estimators': 472, 'max_depth': 20, 'min_samples_split': 10, 'min_samples_leaf': 1, 'max_features': 'sqrt'}. Best is trial 23 with value: 1.9889761816247293.\n",
      "[I 2024-12-18 20:35:51,893] Trial 25 finished with value: 2.7677216294840052 and parameters: {'n_estimators': 238, 'max_depth': 20, 'min_samples_split': 2, 'min_samples_leaf': 2, 'max_features': 'sqrt'}. Best is trial 23 with value: 1.9889761816247293.\n",
      "[I 2024-12-18 20:35:52,131] Trial 24 finished with value: 2.8060076578330437 and parameters: {'n_estimators': 249, 'max_depth': 20, 'min_samples_split': 2, 'min_samples_leaf': 2, 'max_features': 'sqrt'}. Best is trial 23 with value: 1.9889761816247293.\n",
      "[I 2024-12-18 20:35:52,156] Trial 26 finished with value: 14.373141620446116 and parameters: {'n_estimators': 246, 'max_depth': 30, 'min_samples_split': 2, 'min_samples_leaf': 10, 'max_features': 'sqrt'}. Best is trial 23 with value: 1.9889761816247293.\n",
      "[I 2024-12-18 20:35:53,137] Trial 27 finished with value: 2.7968441965677795 and parameters: {'n_estimators': 256, 'max_depth': 30, 'min_samples_split': 2, 'min_samples_leaf': 2, 'max_features': 'sqrt'}. Best is trial 23 with value: 1.9889761816247293.\n",
      "[I 2024-12-18 20:35:53,524] Trial 28 finished with value: 3.16242005746107 and parameters: {'n_estimators': 262, 'max_depth': 30, 'min_samples_split': 9, 'min_samples_leaf': 2, 'max_features': 'sqrt'}. Best is trial 23 with value: 1.9889761816247293.\n",
      "[I 2024-12-18 20:35:55,411] Trial 29 finished with value: 2.807919543132788 and parameters: {'n_estimators': 265, 'max_depth': 30, 'min_samples_split': 2, 'min_samples_leaf': 2, 'max_features': 'sqrt'}. Best is trial 23 with value: 1.9889761816247293.\n",
      "[I 2024-12-18 20:35:56,531] Trial 30 finished with value: 3.096095889983856 and parameters: {'n_estimators': 310, 'max_depth': None, 'min_samples_split': 9, 'min_samples_leaf': 2, 'max_features': 'sqrt'}. Best is trial 23 with value: 1.9889761816247293.\n",
      "[I 2024-12-18 20:35:56,974] Trial 32 finished with value: 13.59648772293356 and parameters: {'n_estimators': 312, 'max_depth': None, 'min_samples_split': 8, 'min_samples_leaf': 10, 'max_features': 'sqrt'}. Best is trial 23 with value: 1.9889761816247293.\n",
      "[I 2024-12-18 20:35:57,464] Trial 34 finished with value: 4.38083991825309 and parameters: {'n_estimators': 310, 'max_depth': None, 'min_samples_split': 8, 'min_samples_leaf': 3, 'max_features': 'sqrt'}. Best is trial 23 with value: 1.9889761816247293.\n",
      "[I 2024-12-18 20:35:58,578] Trial 36 finished with value: 4.391259089726567 and parameters: {'n_estimators': 312, 'max_depth': None, 'min_samples_split': 8, 'min_samples_leaf': 3, 'max_features': 'sqrt'}. Best is trial 23 with value: 1.9889761816247293.\n",
      "[I 2024-12-18 20:35:59,902] Trial 31 finished with value: 4.458141729203403 and parameters: {'n_estimators': 495, 'max_depth': None, 'min_samples_split': 8, 'min_samples_leaf': 3, 'max_features': 'sqrt'}. Best is trial 23 with value: 1.9889761816247293.\n",
      "[I 2024-12-18 20:36:00,707] Trial 33 finished with value: 4.460520161147396 and parameters: {'n_estimators': 487, 'max_depth': None, 'min_samples_split': 8, 'min_samples_leaf': 3, 'max_features': 'sqrt'}. Best is trial 23 with value: 1.9889761816247293.\n",
      "[I 2024-12-18 20:36:01,150] Trial 37 finished with value: 4.3666139306702645 and parameters: {'n_estimators': 320, 'max_depth': None, 'min_samples_split': 8, 'min_samples_leaf': 3, 'max_features': 'sqrt'}. Best is trial 23 with value: 1.9889761816247293.\n",
      "[I 2024-12-18 20:36:01,868] Trial 35 finished with value: 4.461977269091946 and parameters: {'n_estimators': 486, 'max_depth': None, 'min_samples_split': 8, 'min_samples_leaf': 3, 'max_features': 'sqrt'}. Best is trial 23 with value: 1.9889761816247293.\n",
      "[I 2024-12-18 20:36:02,632] Trial 38 finished with value: 4.381530719348805 and parameters: {'n_estimators': 317, 'max_depth': None, 'min_samples_split': 8, 'min_samples_leaf': 3, 'max_features': 'sqrt'}. Best is trial 23 with value: 1.9889761816247293.\n",
      "[I 2024-12-18 20:36:05,355] Trial 44 finished with value: 2.593204766781857 and parameters: {'n_estimators': 181, 'max_depth': 10, 'min_samples_split': 14, 'min_samples_leaf': 1, 'max_features': 'sqrt'}. Best is trial 23 with value: 1.9889761816247293.\n",
      "[I 2024-12-18 20:36:05,873] Trial 39 finished with value: 4.459639338681626 and parameters: {'n_estimators': 482, 'max_depth': None, 'min_samples_split': 8, 'min_samples_leaf': 3, 'max_features': 'sqrt'}. Best is trial 23 with value: 1.9889761816247293.\n",
      "[I 2024-12-18 20:36:06,174] Trial 46 finished with value: 2.5930032674428496 and parameters: {'n_estimators': 179, 'max_depth': 10, 'min_samples_split': 14, 'min_samples_leaf': 1, 'max_features': 'sqrt'}. Best is trial 23 with value: 1.9889761816247293.\n",
      "[I 2024-12-18 20:36:06,216] Trial 40 finished with value: 4.896178458408061 and parameters: {'n_estimators': 455, 'max_depth': None, 'min_samples_split': 13, 'min_samples_leaf': 3, 'max_features': 'sqrt'}. Best is trial 23 with value: 1.9889761816247293.\n",
      "[I 2024-12-18 20:36:07,491] Trial 41 finished with value: 5.07883718659368 and parameters: {'n_estimators': 475, 'max_depth': 10, 'min_samples_split': 14, 'min_samples_leaf': 3, 'max_features': 'sqrt'}. Best is trial 23 with value: 1.9889761816247293.\n",
      "[I 2024-12-18 20:36:08,124] Trial 42 finished with value: 5.113272760931779 and parameters: {'n_estimators': 437, 'max_depth': 10, 'min_samples_split': 14, 'min_samples_leaf': 3, 'max_features': 'sqrt'}. Best is trial 23 with value: 1.9889761816247293.\n",
      "[I 2024-12-18 20:36:08,140] Trial 43 finished with value: 2.6386995524354284 and parameters: {'n_estimators': 446, 'max_depth': 10, 'min_samples_split': 13, 'min_samples_leaf': 1, 'max_features': 'sqrt'}. Best is trial 23 with value: 1.9889761816247293.\n",
      "[I 2024-12-18 20:36:08,394] Trial 45 finished with value: 2.665233139123349 and parameters: {'n_estimators': 445, 'max_depth': 10, 'min_samples_split': 14, 'min_samples_leaf': 1, 'max_features': 'sqrt'}. Best is trial 23 with value: 1.9889761816247293.\n",
      "[I 2024-12-18 20:36:08,622] Trial 48 finished with value: 2.277345459478751 and parameters: {'n_estimators': 286, 'max_depth': 30, 'min_samples_split': 10, 'min_samples_leaf': 1, 'max_features': 'sqrt'}. Best is trial 23 with value: 1.9889761816247293.\n",
      "[I 2024-12-18 20:36:08,856] Trial 49 finished with value: 2.275165060451438 and parameters: {'n_estimators': 287, 'max_depth': 30, 'min_samples_split': 10, 'min_samples_leaf': 1, 'max_features': 'sqrt'}. Best is trial 23 with value: 1.9889761816247293.\n",
      "[I 2024-12-18 20:36:08,912] Trial 47 finished with value: 2.9665557638902 and parameters: {'n_estimators': 461, 'max_depth': 10, 'min_samples_split': 4, 'min_samples_leaf': 2, 'max_features': 'sqrt'}. Best is trial 23 with value: 1.9889761816247293.\n"
     ]
    },
    {
     "name": "stdout",
     "output_type": "stream",
     "text": [
      "Best Hyperparameters: {'n_estimators': 259, 'max_depth': None, 'min_samples_split': 9, 'min_samples_leaf': 1, 'max_features': 'sqrt'}\n",
      "Best Validation MSE: 1.9889761816247293\n",
      "Final Test MSE (Bayesian Optimization): 2.474759621640191\n"
     ]
    }
   ],
   "source": [
    "import optuna\n",
    "from sklearn.ensemble import RandomForestRegressor\n",
    "from sklearn.metrics import mean_squared_error\n",
    "\n",
    "# Define the objective function for Bayesian Optimization\n",
    "def objective(trial):\n",
    "    # Suggest values for hyperparameters\n",
    "    n_estimators = trial.suggest_int('n_estimators', 100, 500)\n",
    "    max_depth = trial.suggest_categorical('max_depth', [10, 20, 30, None])\n",
    "    min_samples_split = trial.suggest_int('min_samples_split', 2, 20)\n",
    "    min_samples_leaf = trial.suggest_int('min_samples_leaf', 1, 10)\n",
    "    max_features = trial.suggest_categorical('max_features', ['sqrt', 'log2'])\n",
    "\n",
    "    # Initialize Random Forest model with suggested hyperparameters\n",
    "    rf_model = RandomForestRegressor(\n",
    "        n_estimators=n_estimators,\n",
    "        max_depth=max_depth,\n",
    "        min_samples_split=min_samples_split,\n",
    "        min_samples_leaf=min_samples_leaf,\n",
    "        max_features=max_features,\n",
    "        random_state=42\n",
    "    )\n",
    "    \n",
    "    # Fit the model on training data\n",
    "    rf_model.fit(X_train, y_train)\n",
    "    \n",
    "    # Predict on validation data\n",
    "    y_pred_val = rf_model.predict(X_val)\n",
    "    \n",
    "    # Calculate MSE\n",
    "    mse = mean_squared_error(y_val, y_pred_val)\n",
    "    return mse\n",
    "\n",
    "# Create an Optuna study\n",
    "study = optuna.create_study(direction='minimize')  # Minimize MSE\n",
    "study.optimize(objective, n_trials=50, n_jobs=-1)  # Perform optimization\n",
    "\n",
    "# Print best hyperparameters and MSE\n",
    "print(\"Best Hyperparameters:\", study.best_params)\n",
    "print(\"Best Validation MSE:\", study.best_value)\n",
    "\n",
    "# Train final model with best hyperparameters\n",
    "best_rf_model = RandomForestRegressor(**study.best_params, random_state=42)\n",
    "best_rf_model.fit(X_train, y_train)\n",
    "\n",
    "# Evaluate final model on test data\n",
    "final_test_predictions = best_rf_model.predict(test_features.drop('nutri_score', axis=1, errors='ignore'))\n",
    "final_test_mse = mean_squared_error(y_test, final_test_predictions)\n",
    "print(f\"Final Test MSE (Bayesian Optimization): {final_test_mse}\")\n"
   ]
  },
  {
   "cell_type": "code",
   "execution_count": 27,
   "metadata": {},
   "outputs": [
    {
     "name": "stdout",
     "output_type": "stream",
     "text": [
      "Mean CV MSE: 0.3924518874630639\n"
     ]
    }
   ],
   "source": [
    "from sklearn.model_selection import cross_val_score\n",
    "scores = cross_val_score(RandomForestRegressor(random_state=42), X, y, scoring='neg_mean_squared_error', cv=5)\n",
    "print(f\"Mean CV MSE: {-scores.mean()}\")"
   ]
  },
  {
   "cell_type": "code",
   "execution_count": 43,
   "metadata": {},
   "outputs": [
    {
     "data": {
      "image/png": "[encoded data removed]",
      "text/plain": [
       "<Figure size 1000x600 with 1 Axes>"
      ]
     },
     "metadata": {},
     "output_type": "display_data"
    }
   ],
   "source": [
    "import matplotlib.pyplot as plt\n",
    "\n",
    "# Plot nilai aktual vs prediksi\n",
    "plt.figure(figsize=(10, 6))\n",
    "plt.scatter(y_test, final_test_predictions, alpha=0.7, color=\"blue\")\n",
    "plt.plot([min(y_test), max(y_test)], [min(y_test), max(y_test)], color='red', linestyle='--')\n",
    "plt.title(\"Perbandingan Nilai Aktual vs Prediksi\")\n",
    "plt.xlabel(\"Nilai Aktual\")\n",
    "plt.ylabel(\"Nilai Prediksi\")\n",
    "plt.grid()\n",
    "plt.show()"
   ]
  },
  {
   "cell_type": "code",
   "execution_count": 44,
   "metadata": {},
   "outputs": [
    {
     "data": {
      "image/png": "[encoded data removed]",
      "text/plain": [
       "<Figure size 1000x600 with 1 Axes>"
      ]
     },
     "metadata": {},
     "output_type": "display_data"
    }
   ],
   "source": [
    "# Plot histogram residuals\n",
    "plt.figure(figsize=(10, 6))\n",
    "plt.hist(residuals, bins=20, color='blue', alpha=0.7)\n",
    "plt.axvline(x=0, color='red', linestyle='--')\n",
    "plt.title(\"Distribusi Residuals\")\n",
    "plt.xlabel(\"Residuals\")\n",
    "plt.ylabel(\"Frekuensi\")\n",
    "plt.grid()\n",
    "plt.show()"
   ]
  },
  {
   "cell_type": "code",
   "execution_count": 45,
   "metadata": {},
   "outputs": [
    {
     "name": "stdout",
     "output_type": "stream",
     "text": [
      "Len nama_produk: 95\n",
      "Len Nilai Aktual (y_test): 95\n",
      "Len Nilai Prediksi: 95\n"
     ]
    }
   ],
   "source": [
    "print(f\"Len nama_produk: {len(test_data_processed['nama_produk'])}\")\n",
    "print(f\"Len Nilai Aktual (y_test): {len(y_test)}\")\n",
    "print(f\"Len Nilai Prediksi: {len(final_test_predictions)}\")"
   ]
  },
  {
   "cell_type": "code",
   "execution_count": 46,
   "metadata": {},
   "outputs": [
    {
     "name": "stdout",
     "output_type": "stream",
     "text": [
      "                                         Nama Produk  Nilai Aktual  \\\n",
      "0         Cedea_FrozenFood_PremiumSalmonSausage_390G      2.744161   \n",
      "1             Cedea_FrozenFood_KoreanOdengSpicy_480G      3.298083   \n",
      "2         SoGood_FrozenFood_ChickenStickPremium_400G      2.451057   \n",
      "3            Lotte_Biscuit_ChocoPieMarsmallow2'S_52G      4.238304   \n",
      "4                  Guribee_Snack_SnackRumputLaut_65G      7.885714   \n",
      "5       Roma_Bicuit_CrackersMalkistKelapaKopyor_125G      2.457143   \n",
      "6  DuaKelinci_Snack_TatoTatoFrenchFriesFlameBeef_60G      5.995996   \n",
      "7                SariRoti_Roti_RotiManisChocoBun_55G      6.403653   \n",
      "8           ChitatoLite_Snack_PotatoAburiSeaweed_65G      4.244985   \n",
      "9                   Cedea_FrozenFood_CrabStick_1000G      1.349443   \n",
      "\n",
      "   Nilai Prediksi  \n",
      "0        3.383176  \n",
      "1        4.333794  \n",
      "2        3.395020  \n",
      "3        4.657862  \n",
      "4        7.515630  \n",
      "5        2.603513  \n",
      "6        5.117868  \n",
      "7        6.663839  \n",
      "8        5.101078  \n",
      "9        1.269840  \n"
     ]
    }
   ],
   "source": [
    "# Pastikan indeks konsisten\n",
    "test_data_processed = test_data_processed.reset_index(drop=True)\n",
    "aligned_test_data = X_test_raw.reset_index(drop=True)\n",
    "\n",
    "# Buat DataFrame perbandingan\n",
    "comparison_df = pd.DataFrame({\n",
    "    'Nama Produk': aligned_test_data['nama_produk'],\n",
    "    'Nilai Aktual': y_test.reset_index(drop=True),\n",
    "    'Nilai Prediksi': final_test_predictions\n",
    "})\n",
    "print(comparison_df.head(10))"
   ]
  }
 ],
 "metadata": {
  "kernelspec": {
   "display_name": "Python 3",
   "language": "python",
   "name": "python3"
  },
  "language_info": {
   "codemirror_mode": {
    "name": "ipython",
    "version": 3
   },
   "file_extension": ".py",
   "mimetype": "text/x-python",
   "name": "python",
   "nbconvert_exporter": "python",
   "pygments_lexer": "ipython3",
   "version": "3.12.2"
  }
 },
 "nbformat": 4,
 "nbformat_minor": 2
}
